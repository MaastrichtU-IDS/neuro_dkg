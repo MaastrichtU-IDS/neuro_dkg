{
 "cells": [
  {
   "cell_type": "code",
   "execution_count": 84,
   "metadata": {},
   "outputs": [],
   "source": [
    "from nanopub import Publication, NanopubClient\n",
    "from rdflib import Graph, URIRef, RDF, FOAF"
   ]
  },
  {
   "cell_type": "code",
   "execution_count": 90,
   "metadata": {},
   "outputs": [],
   "source": [
    "from nanopub import NanopubClient\n",
    "client = NanopubClient()\n"
   ]
  },
  {
   "cell_type": "code",
   "execution_count": 116,
   "metadata": {},
   "outputs": [],
   "source": [
    "# Search for all nanopublications containing the text 'fair'\n",
    "results = client.find_nanopubs_with_pattern(\n",
    "    pred='https://w3id.org/neurodkg/indicationType')"
   ]
  },
  {
   "cell_type": "code",
   "execution_count": 100,
   "metadata": {},
   "outputs": [
    {
     "name": "stdout",
     "output_type": "stream",
     "text": [
      "{'np': 'http://purl.org/np/RAEbwA6dNfbX9AXwI7LvvxpHjtKDw0H4vDEopRaBOkGrU', 'description': '', 'date': '2021-01-18T17:01:27.679Z'}\n"
     ]
    }
   ],
   "source": [
    "for p in results:\n",
    "    print (p)\n",
    "    break"
   ]
  },
  {
   "cell_type": "code",
   "execution_count": 102,
   "metadata": {},
   "outputs": [
    {
     "name": "stdout",
     "output_type": "stream",
     "text": [
      "Original source URI = http://purl.org/np/RAEbwA6dNfbX9AXwI7LvvxpHjtKDw0H4vDEopRaBOkGrU\n",
      "@prefix dct: <http://purl.org/dc/terms/> .\n",
      "@prefix nkg: <https://w3id.org/neurodkg/> .\n",
      "@prefix np: <http://www.nanopub.org/nschema#> .\n",
      "@prefix npx: <http://purl.org/nanopub/x/> .\n",
      "@prefix nt: <https://w3id.org/np/o/ntemplate/> .\n",
      "@prefix orcid: <https://orcid.org/> .\n",
      "@prefix prov: <http://www.w3.org/ns/prov#> .\n",
      "@prefix schema: <https://schema.org/> .\n",
      "@prefix sub: <http://purl.org/np/RAEbwA6dNfbX9AXwI7LvvxpHjtKDw0H4vDEopRaBOkGrU#> .\n",
      "@prefix this: <http://purl.org/np/RAEbwA6dNfbX9AXwI7LvvxpHjtKDw0H4vDEopRaBOkGrU> .\n",
      "@prefix xsd: <http://www.w3.org/2001/XMLSchema#> .\n",
      "\n",
      "sub:assertion {\n",
      "    <http://purl.obolibrary.org/obo/DOID_5419> schema:possibleTreatment sub:medtherapy .\n",
      "\n",
      "    sub:medtherapy prov:quotedText \"Clozapine is indicated for the treatment of severely ill patients with schizophrenia who fail to respond adequately to standard antipsychotic treatment\" ;\n",
      "        schema:drug <http://identifiers.org/drugbank/DB00363> ;\n",
      "        schema:targetPopulation sub:targetpop ;\n",
      "        nkg:indicationType schema:TreatmentIndication .\n",
      "}\n",
      "\n",
      "sub:pubinfo {\n",
      "    sub:sig npx:hasAlgorithm \"RSA\" ;\n",
      "        npx:hasPublicKey \"MIGfMA0GCSqGSIb3DQEBAQUAA4GNADCBiQKBgQCOqbrPT5RmzxsvRXGHZSAXPzeRLt9ogiosL3tcPKC0g5J8B1577lnJ3oVKSfD80lgPJdr9K671RazGL/mkZ/yu/uCNqne07Q9jd6OIAEi3fldiVfGK8ZDh43rGWRuG+BlvbZ1lZRFrWsURTKTpMgh0C6vJFRIMkWH6ImbZC5JbbQIDAQAB\" ;\n",
      "        npx:hasSignature \"VpmrRuifUQnBQTkb90CAvF2uuz6ygn045Ig26ZGDsgRqSHGlyPaz2DDK4gS+fQ++FEmualDfzFuVqbuiZhnJB1u5Bz7Gja2k8KMa6ytYyHj9IV2T1pGKjcs/qX9Rye0u2zOXnKb2xE841Do3OMEC6a7oC1Jis59OTHKXo+kuJj8=\" ;\n",
      "        npx:hasSignatureTarget this: .\n",
      "\n",
      "    this: dct:created \"2021-01-18T18:01:27.679000+01:00\"^^xsd:dateTime ;\n",
      "        dct:creator orcid:0000-0001-7769-4272 ;\n",
      "        nt:wasCreatedFromProvenanceTemplate <http://purl.org/np/RANwQa4ICWS5SOjw7gp99nBpXBasapwtZF1fIM3H2gYTM> ;\n",
      "        nt:wasCreatedFromPubinfoTemplate <http://purl.org/np/RAA2MfqdBCzmz9yVWjKLXNbyfBNcwsMmOqcNUxkk1maIM> ;\n",
      "        nt:wasCreatedFromTemplate <http://purl.org/np/RA1qFYcifL-R-TLdaNFuglOprNuiUZDy2S0bifJPi3aPk> .\n",
      "}\n",
      "\n",
      "sub:provenance {\n",
      "    sub:assertion prov:wasAttributedTo orcid:0000-0001-7769-4272 .\n",
      "}\n",
      "\n",
      "sub:Head {\n",
      "    this: a np:Nanopublication ;\n",
      "        np:hasAssertion sub:assertion ;\n",
      "        np:hasProvenance sub:provenance ;\n",
      "        np:hasPublicationInfo sub:pubinfo .\n",
      "}\n",
      "\n",
      "\n",
      "http://purl.obolibrary.org/obo/DOID_5419 https://schema.org/possibleTreatment http://purl.org/np/RAEbwA6dNfbX9AXwI7LvvxpHjtKDw0H4vDEopRaBOkGrU#medtherapy\n",
      "http://purl.org/np/RAEbwA6dNfbX9AXwI7LvvxpHjtKDw0H4vDEopRaBOkGrU#medtherapy http://www.w3.org/ns/prov#quotedText Clozapine is indicated for the treatment of severely ill patients with schizophrenia who fail to respond adequately to standard antipsychotic treatment\n",
      "http://purl.org/np/RAEbwA6dNfbX9AXwI7LvvxpHjtKDw0H4vDEopRaBOkGrU#medtherapy https://w3id.org/neurodkg/indicationType https://schema.org/TreatmentIndication\n",
      "http://purl.org/np/RAEbwA6dNfbX9AXwI7LvvxpHjtKDw0H4vDEopRaBOkGrU#medtherapy https://schema.org/targetPopulation http://purl.org/np/RAEbwA6dNfbX9AXwI7LvvxpHjtKDw0H4vDEopRaBOkGrU#targetpop\n",
      "http://purl.org/np/RAEbwA6dNfbX9AXwI7LvvxpHjtKDw0H4vDEopRaBOkGrU#medtherapy https://schema.org/drug http://identifiers.org/drugbank/DB00363\n"
     ]
    }
   ],
   "source": [
    "# Fetch the nanopublication at the specified URI\n",
    "publication = client.fetch(\"http://purl.org/np/RAEbwA6dNfbX9AXwI7LvvxpHjtKDw0H4vDEopRaBOkGrU\")\n",
    "\n",
    "# Print the RDF contents of the nanopublication\n",
    "print(publication)\n",
    "\n",
    "# Iterate through all triples in the assertion graph\n",
    "for s, p, o in publication.assertion:\n",
    "    print(s, p, o)"
   ]
  },
  {
   "cell_type": "code",
   "execution_count": 103,
   "metadata": {},
   "outputs": [
    {
     "name": "stdout",
     "output_type": "stream",
     "text": [
      "http://purl.obolibrary.org/obo/DOID_5419 https://schema.org/possibleTreatment http://purl.org/np/RAEbwA6dNfbX9AXwI7LvvxpHjtKDw0H4vDEopRaBOkGrU#medtherapy\n",
      "http://purl.org/np/RAEbwA6dNfbX9AXwI7LvvxpHjtKDw0H4vDEopRaBOkGrU#medtherapy http://www.w3.org/ns/prov#quotedText Clozapine is indicated for the treatment of severely ill patients with schizophrenia who fail to respond adequately to standard antipsychotic treatment\n",
      "http://purl.org/np/RAEbwA6dNfbX9AXwI7LvvxpHjtKDw0H4vDEopRaBOkGrU#medtherapy https://w3id.org/neurodkg/indicationType https://schema.org/TreatmentIndication\n",
      "http://purl.org/np/RAEbwA6dNfbX9AXwI7LvvxpHjtKDw0H4vDEopRaBOkGrU#medtherapy https://schema.org/targetPopulation http://purl.org/np/RAEbwA6dNfbX9AXwI7LvvxpHjtKDw0H4vDEopRaBOkGrU#targetpop\n",
      "http://purl.org/np/RAEbwA6dNfbX9AXwI7LvvxpHjtKDw0H4vDEopRaBOkGrU#medtherapy https://schema.org/drug http://identifiers.org/drugbank/DB00363\n"
     ]
    }
   ],
   "source": [
    "# Iterate through all triples in the assertion graph\n",
    "for s, p, o in publication.assertion:\n",
    "    print(s, p, o)"
   ]
  },
  {
   "cell_type": "code",
   "execution_count": 49,
   "metadata": {},
   "outputs": [
    {
     "data": {
      "text/plain": [
       "<Graph identifier=http://purl.org/np/RAl4WREWS2kLIELieLL6y_fp0D7ZVwH-m2oSb-LzdhQnc#assertion (<class 'rdflib.graph.Graph'>)>"
      ]
     },
     "execution_count": 49,
     "metadata": {},
     "output_type": "execute_result"
    }
   ],
   "source": [
    "publication.assertion.serialize()"
   ]
  },
  {
   "cell_type": "code",
   "execution_count": 105,
   "metadata": {},
   "outputs": [],
   "source": [
    "results_array = [ p for  p in results] "
   ]
  },
  {
   "cell_type": "code",
   "execution_count": 122,
   "metadata": {},
   "outputs": [],
   "source": [
    "pd.DataFrame(results_array).to_csv('../data/input/nanopub_neurodkg.csv', index=0)"
   ]
  },
  {
   "cell_type": "code",
   "execution_count": 119,
   "metadata": {},
   "outputs": [],
   "source": [
    "def add_assertion_to_graph(graph, np_uri):\n",
    "    # Fetch the nanopublication at the specified URI\n",
    "    publication = client.fetch(np_uri)\n",
    "\n",
    "    # Print the RDF contents of the nanopublication\n",
    "    #print(publication)\n",
    "\n",
    "    # Iterate through all triples in the assertion graph\n",
    "    for s, p, o in publication.assertion:\n",
    "        #print(s, p, o)\n",
    "        graph.add((s, p, o))\n",
    "    \n",
    "    return graph\n",
    "    "
   ]
  },
  {
   "cell_type": "code",
   "execution_count": 121,
   "metadata": {},
   "outputs": [],
   "source": [
    "g= Graph()\n",
    "# Search for all nanopublications containing the text 'fair'\n",
    "results = client.find_nanopubs_with_pattern(\n",
    "    pred='https://w3id.org/neurodkg/indicationType')\n",
    "\n",
    "for p in results:\n",
    "    np_uri= p['np']\n",
    "    g= add_assertion_to_graph(g, np_uri)\n",
    "    #break"
   ]
  },
  {
   "cell_type": "code",
   "execution_count": 123,
   "metadata": {},
   "outputs": [],
   "source": [
    "g.serialize('../data/rdf/neurodkg.ttl', format=\"turtle\")"
   ]
  },
  {
   "cell_type": "code",
   "execution_count": null,
   "metadata": {},
   "outputs": [],
   "source": []
  }
 ],
 "metadata": {
  "kernelspec": {
   "display_name": "Python 3",
   "language": "python",
   "name": "python3"
  },
  "language_info": {
   "codemirror_mode": {
    "name": "ipython",
    "version": 3
   },
   "file_extension": ".py",
   "mimetype": "text/x-python",
   "name": "python",
   "nbconvert_exporter": "python",
   "pygments_lexer": "ipython3",
   "version": "3.8.3"
  }
 },
 "nbformat": 4,
 "nbformat_minor": 4
}
