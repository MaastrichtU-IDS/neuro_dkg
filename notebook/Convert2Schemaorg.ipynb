{
 "cells": [
  {
   "cell_type": "code",
   "execution_count": 3,
   "metadata": {},
   "outputs": [],
   "source": [
    "from nanopub import Publication, NanopubClient\n",
    "from rdflib import Graph, URIRef, RDF, FOAF\n",
    "import pandas as pd"
   ]
  },
  {
   "cell_type": "code",
   "execution_count": 4,
   "metadata": {},
   "outputs": [],
   "source": [
    "g_biolink = Graph()"
   ]
  },
  {
   "cell_type": "code",
   "execution_count": 5,
   "metadata": {},
   "outputs": [],
   "source": [
    "g_biolink.load('../data/rdf/neurodkg_biolink.ttl', format=\"turtle\")"
   ]
  },
  {
   "cell_type": "code",
   "execution_count": 121,
   "metadata": {},
   "outputs": [],
   "source": [
    "qtext= \"\"\" \n",
    "PREFIX rdf: <http://www.w3.org/1999/02/22-rdf-syntax-ns#>\n",
    "PREFIX rdfs: <http://www.w3.org/2000/01/rdf-schema#>\n",
    "PREFIX biolink: <https://w3id.org/biolink/vocab/>\n",
    "PREFIX np: <http://www.nanopub.org/nschema#>\n",
    "PREFIX npx: <http://purl.org/nanopub/x/>\n",
    "prefix npa: <http://purl.org/nanopub/admin/>\n",
    "PREFIX dct: <http://purl.org/dc/terms/>\n",
    "PREFIX orcid: <https://orcid.org/>\n",
    "PREFIX schema: <https://schema.org/> \n",
    "PREFIX ndkg: <https://w3id.org/neurodkg/>\n",
    "PREFIX prov: <http://www.w3.org/ns/prov#>\n",
    "\n",
    "CONSTRUCT{ \n",
    "?association a schema:MedicalTherapy .\n",
    "?subject a schema:Drug .\n",
    "?object a schema:MedicalCondition .\n",
    "?association schema:drug ?subject .\n",
    "?object schema:possibleTreatment ?association .\n",
    "?association ndkg:indicationType ?relation .\n",
    "?association prov:wasDerivedFrom \n",
    "    [ prov:wasQuotedFrom ?publications ;\n",
    "      prov:value ?label   ;           ] .\n",
    "?association schema:targetPopulation ?target_population . \n",
    "?target_population a schema:PeopleAudience .\n",
    "?target_population schema:audienceType ?target_pop_label .\n",
    "?target_population schema:healthCondition ?phenotype .\n",
    "?phenotype a schema:MedicalCondition .\n",
    "?target_population schema:requiredMinAge ?min_age .\n",
    "?target_population schema:requiredMaxAge ?max_age .\n",
    "}\n",
    "WHERE{\n",
    "    ?association\n",
    "      rdfs:label ?label ;\n",
    "      rdf:subject ?subject ;\n",
    "      rdf:predicate ?predicate ;\n",
    "      rdf:object ?object ;\n",
    "      biolink:relation ?relation ;\n",
    "      biolink:provided_by ?provided_by ;\n",
    "      biolink:association_type ?association_type ;\n",
    "      biolink:publications ?publications .\n",
    "    OPTIONAL{\n",
    "      ?association biolink:has_population_context ?target_population .  \n",
    "      ?target_population rdfs:label ?target_pop_label .\n",
    "      OPTIONAL{   \n",
    "          ?target_population biolink:has_phenotype ?phenotype .\n",
    "        }  \n",
    "        OPTIONAL{  \n",
    "         ?target_population schema:requiredMinAge ?min_age .\n",
    "      } \n",
    "        OPTIONAL{   \n",
    "         ?target_population schema:requiredMaxAge ?max_age .\n",
    "    }\n",
    "    }\n",
    "    ?subject biolink:category ?subject_category .\n",
    "    ?object biolink:category ?object_category . } \"\"\""
   ]
  },
  {
   "cell_type": "code",
   "execution_count": 122,
   "metadata": {},
   "outputs": [],
   "source": [
    "results = g_biolink.query(qtext)"
   ]
  },
  {
   "cell_type": "code",
   "execution_count": null,
   "metadata": {},
   "outputs": [],
   "source": [
    "g_schema = Graph()\n",
    "for r in results:\n",
    "    #print (r)\n",
    "    g_schema.add(r)"
   ]
  },
  {
   "cell_type": "code",
   "execution_count": 124,
   "metadata": {},
   "outputs": [],
   "source": [
    "g_schema.serialize('../data/rdf/neurodkg_schema_2.ttl', format=\"turtle\")"
   ]
  },
  {
   "cell_type": "code",
   "execution_count": null,
   "metadata": {},
   "outputs": [],
   "source": []
  },
  {
   "cell_type": "code",
   "execution_count": null,
   "metadata": {},
   "outputs": [],
   "source": []
  }
 ],
 "metadata": {
  "kernelspec": {
   "display_name": "Python 3",
   "language": "python",
   "name": "python3"
  },
  "language_info": {
   "codemirror_mode": {
    "name": "ipython",
    "version": 3
   },
   "file_extension": ".py",
   "mimetype": "text/x-python",
   "name": "python",
   "nbconvert_exporter": "python",
   "pygments_lexer": "ipython3",
   "version": "3.8.3"
  }
 },
 "nbformat": 4,
 "nbformat_minor": 4
}
